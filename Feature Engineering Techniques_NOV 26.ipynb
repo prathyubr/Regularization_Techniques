{
 "cells": [
  {
   "cell_type": "markdown",
   "id": "5e6fdfa7",
   "metadata": {},
   "source": [
    "### Feature Engineering\n",
    "\n",
    "Whatever you do wih features, we call it as Feature Engineering.\n",
    "\n",
    "* Feature Elimination    - dropping the features.\n",
    "* Feature Addition       - adding some features.\n",
    "* Feature Transformation - transforming the given feature values into an another scale - Log Tranformation, Sqrt Transformation..\n",
    "* Feature Selection      - deciding which features are important out of many features and choosing that features for model building."
   ]
  },
  {
   "cell_type": "markdown",
   "id": "ac0ee8f7",
   "metadata": {},
   "source": [
    "#### Feature Selection Techniques\n",
    "\n",
    "* sklearn - SelectFromModel\n",
    "* sklearn - RFE(ie,Recursive Feature Elimination)"
   ]
  },
  {
   "cell_type": "markdown",
   "id": "223578be",
   "metadata": {},
   "source": [
    "## 1. Import Necessasry libraries"
   ]
  },
  {
   "cell_type": "code",
   "execution_count": 1,
   "id": "75ec0c75",
   "metadata": {},
   "outputs": [],
   "source": [
    "import pandas as pd"
   ]
  },
  {
   "cell_type": "markdown",
   "id": "9d47d07d",
   "metadata": {},
   "source": [
    "## 2. Import Dataset"
   ]
  },
  {
   "cell_type": "code",
   "execution_count": 3,
   "id": "837f0c5d",
   "metadata": {},
   "outputs": [],
   "source": [
    "from sklearn.datasets import load_breast_cancer\n",
    "cancer_data = load_breast_cancer()"
   ]
  },
  {
   "cell_type": "code",
   "execution_count": 6,
   "id": "ff57e52e",
   "metadata": {},
   "outputs": [
    {
     "data": {
      "text/html": [
       "<div>\n",
       "<style scoped>\n",
       "    .dataframe tbody tr th:only-of-type {\n",
       "        vertical-align: middle;\n",
       "    }\n",
       "\n",
       "    .dataframe tbody tr th {\n",
       "        vertical-align: top;\n",
       "    }\n",
       "\n",
       "    .dataframe thead th {\n",
       "        text-align: right;\n",
       "    }\n",
       "</style>\n",
       "<table border=\"1\" class=\"dataframe\">\n",
       "  <thead>\n",
       "    <tr style=\"text-align: right;\">\n",
       "      <th></th>\n",
       "      <th>mean radius</th>\n",
       "      <th>mean texture</th>\n",
       "      <th>mean perimeter</th>\n",
       "      <th>mean area</th>\n",
       "      <th>mean smoothness</th>\n",
       "      <th>mean compactness</th>\n",
       "      <th>mean concavity</th>\n",
       "      <th>mean concave points</th>\n",
       "      <th>mean symmetry</th>\n",
       "      <th>mean fractal dimension</th>\n",
       "      <th>...</th>\n",
       "      <th>worst texture</th>\n",
       "      <th>worst perimeter</th>\n",
       "      <th>worst area</th>\n",
       "      <th>worst smoothness</th>\n",
       "      <th>worst compactness</th>\n",
       "      <th>worst concavity</th>\n",
       "      <th>worst concave points</th>\n",
       "      <th>worst symmetry</th>\n",
       "      <th>worst fractal dimension</th>\n",
       "      <th>target</th>\n",
       "    </tr>\n",
       "  </thead>\n",
       "  <tbody>\n",
       "    <tr>\n",
       "      <th>0</th>\n",
       "      <td>17.99</td>\n",
       "      <td>10.38</td>\n",
       "      <td>122.80</td>\n",
       "      <td>1001.0</td>\n",
       "      <td>0.11840</td>\n",
       "      <td>0.27760</td>\n",
       "      <td>0.30010</td>\n",
       "      <td>0.14710</td>\n",
       "      <td>0.2419</td>\n",
       "      <td>0.07871</td>\n",
       "      <td>...</td>\n",
       "      <td>17.33</td>\n",
       "      <td>184.60</td>\n",
       "      <td>2019.0</td>\n",
       "      <td>0.16220</td>\n",
       "      <td>0.66560</td>\n",
       "      <td>0.7119</td>\n",
       "      <td>0.2654</td>\n",
       "      <td>0.4601</td>\n",
       "      <td>0.11890</td>\n",
       "      <td>0</td>\n",
       "    </tr>\n",
       "    <tr>\n",
       "      <th>1</th>\n",
       "      <td>20.57</td>\n",
       "      <td>17.77</td>\n",
       "      <td>132.90</td>\n",
       "      <td>1326.0</td>\n",
       "      <td>0.08474</td>\n",
       "      <td>0.07864</td>\n",
       "      <td>0.08690</td>\n",
       "      <td>0.07017</td>\n",
       "      <td>0.1812</td>\n",
       "      <td>0.05667</td>\n",
       "      <td>...</td>\n",
       "      <td>23.41</td>\n",
       "      <td>158.80</td>\n",
       "      <td>1956.0</td>\n",
       "      <td>0.12380</td>\n",
       "      <td>0.18660</td>\n",
       "      <td>0.2416</td>\n",
       "      <td>0.1860</td>\n",
       "      <td>0.2750</td>\n",
       "      <td>0.08902</td>\n",
       "      <td>0</td>\n",
       "    </tr>\n",
       "    <tr>\n",
       "      <th>2</th>\n",
       "      <td>19.69</td>\n",
       "      <td>21.25</td>\n",
       "      <td>130.00</td>\n",
       "      <td>1203.0</td>\n",
       "      <td>0.10960</td>\n",
       "      <td>0.15990</td>\n",
       "      <td>0.19740</td>\n",
       "      <td>0.12790</td>\n",
       "      <td>0.2069</td>\n",
       "      <td>0.05999</td>\n",
       "      <td>...</td>\n",
       "      <td>25.53</td>\n",
       "      <td>152.50</td>\n",
       "      <td>1709.0</td>\n",
       "      <td>0.14440</td>\n",
       "      <td>0.42450</td>\n",
       "      <td>0.4504</td>\n",
       "      <td>0.2430</td>\n",
       "      <td>0.3613</td>\n",
       "      <td>0.08758</td>\n",
       "      <td>0</td>\n",
       "    </tr>\n",
       "    <tr>\n",
       "      <th>3</th>\n",
       "      <td>11.42</td>\n",
       "      <td>20.38</td>\n",
       "      <td>77.58</td>\n",
       "      <td>386.1</td>\n",
       "      <td>0.14250</td>\n",
       "      <td>0.28390</td>\n",
       "      <td>0.24140</td>\n",
       "      <td>0.10520</td>\n",
       "      <td>0.2597</td>\n",
       "      <td>0.09744</td>\n",
       "      <td>...</td>\n",
       "      <td>26.50</td>\n",
       "      <td>98.87</td>\n",
       "      <td>567.7</td>\n",
       "      <td>0.20980</td>\n",
       "      <td>0.86630</td>\n",
       "      <td>0.6869</td>\n",
       "      <td>0.2575</td>\n",
       "      <td>0.6638</td>\n",
       "      <td>0.17300</td>\n",
       "      <td>0</td>\n",
       "    </tr>\n",
       "    <tr>\n",
       "      <th>4</th>\n",
       "      <td>20.29</td>\n",
       "      <td>14.34</td>\n",
       "      <td>135.10</td>\n",
       "      <td>1297.0</td>\n",
       "      <td>0.10030</td>\n",
       "      <td>0.13280</td>\n",
       "      <td>0.19800</td>\n",
       "      <td>0.10430</td>\n",
       "      <td>0.1809</td>\n",
       "      <td>0.05883</td>\n",
       "      <td>...</td>\n",
       "      <td>16.67</td>\n",
       "      <td>152.20</td>\n",
       "      <td>1575.0</td>\n",
       "      <td>0.13740</td>\n",
       "      <td>0.20500</td>\n",
       "      <td>0.4000</td>\n",
       "      <td>0.1625</td>\n",
       "      <td>0.2364</td>\n",
       "      <td>0.07678</td>\n",
       "      <td>0</td>\n",
       "    </tr>\n",
       "    <tr>\n",
       "      <th>...</th>\n",
       "      <td>...</td>\n",
       "      <td>...</td>\n",
       "      <td>...</td>\n",
       "      <td>...</td>\n",
       "      <td>...</td>\n",
       "      <td>...</td>\n",
       "      <td>...</td>\n",
       "      <td>...</td>\n",
       "      <td>...</td>\n",
       "      <td>...</td>\n",
       "      <td>...</td>\n",
       "      <td>...</td>\n",
       "      <td>...</td>\n",
       "      <td>...</td>\n",
       "      <td>...</td>\n",
       "      <td>...</td>\n",
       "      <td>...</td>\n",
       "      <td>...</td>\n",
       "      <td>...</td>\n",
       "      <td>...</td>\n",
       "      <td>...</td>\n",
       "    </tr>\n",
       "    <tr>\n",
       "      <th>564</th>\n",
       "      <td>21.56</td>\n",
       "      <td>22.39</td>\n",
       "      <td>142.00</td>\n",
       "      <td>1479.0</td>\n",
       "      <td>0.11100</td>\n",
       "      <td>0.11590</td>\n",
       "      <td>0.24390</td>\n",
       "      <td>0.13890</td>\n",
       "      <td>0.1726</td>\n",
       "      <td>0.05623</td>\n",
       "      <td>...</td>\n",
       "      <td>26.40</td>\n",
       "      <td>166.10</td>\n",
       "      <td>2027.0</td>\n",
       "      <td>0.14100</td>\n",
       "      <td>0.21130</td>\n",
       "      <td>0.4107</td>\n",
       "      <td>0.2216</td>\n",
       "      <td>0.2060</td>\n",
       "      <td>0.07115</td>\n",
       "      <td>0</td>\n",
       "    </tr>\n",
       "    <tr>\n",
       "      <th>565</th>\n",
       "      <td>20.13</td>\n",
       "      <td>28.25</td>\n",
       "      <td>131.20</td>\n",
       "      <td>1261.0</td>\n",
       "      <td>0.09780</td>\n",
       "      <td>0.10340</td>\n",
       "      <td>0.14400</td>\n",
       "      <td>0.09791</td>\n",
       "      <td>0.1752</td>\n",
       "      <td>0.05533</td>\n",
       "      <td>...</td>\n",
       "      <td>38.25</td>\n",
       "      <td>155.00</td>\n",
       "      <td>1731.0</td>\n",
       "      <td>0.11660</td>\n",
       "      <td>0.19220</td>\n",
       "      <td>0.3215</td>\n",
       "      <td>0.1628</td>\n",
       "      <td>0.2572</td>\n",
       "      <td>0.06637</td>\n",
       "      <td>0</td>\n",
       "    </tr>\n",
       "    <tr>\n",
       "      <th>566</th>\n",
       "      <td>16.60</td>\n",
       "      <td>28.08</td>\n",
       "      <td>108.30</td>\n",
       "      <td>858.1</td>\n",
       "      <td>0.08455</td>\n",
       "      <td>0.10230</td>\n",
       "      <td>0.09251</td>\n",
       "      <td>0.05302</td>\n",
       "      <td>0.1590</td>\n",
       "      <td>0.05648</td>\n",
       "      <td>...</td>\n",
       "      <td>34.12</td>\n",
       "      <td>126.70</td>\n",
       "      <td>1124.0</td>\n",
       "      <td>0.11390</td>\n",
       "      <td>0.30940</td>\n",
       "      <td>0.3403</td>\n",
       "      <td>0.1418</td>\n",
       "      <td>0.2218</td>\n",
       "      <td>0.07820</td>\n",
       "      <td>0</td>\n",
       "    </tr>\n",
       "    <tr>\n",
       "      <th>567</th>\n",
       "      <td>20.60</td>\n",
       "      <td>29.33</td>\n",
       "      <td>140.10</td>\n",
       "      <td>1265.0</td>\n",
       "      <td>0.11780</td>\n",
       "      <td>0.27700</td>\n",
       "      <td>0.35140</td>\n",
       "      <td>0.15200</td>\n",
       "      <td>0.2397</td>\n",
       "      <td>0.07016</td>\n",
       "      <td>...</td>\n",
       "      <td>39.42</td>\n",
       "      <td>184.60</td>\n",
       "      <td>1821.0</td>\n",
       "      <td>0.16500</td>\n",
       "      <td>0.86810</td>\n",
       "      <td>0.9387</td>\n",
       "      <td>0.2650</td>\n",
       "      <td>0.4087</td>\n",
       "      <td>0.12400</td>\n",
       "      <td>0</td>\n",
       "    </tr>\n",
       "    <tr>\n",
       "      <th>568</th>\n",
       "      <td>7.76</td>\n",
       "      <td>24.54</td>\n",
       "      <td>47.92</td>\n",
       "      <td>181.0</td>\n",
       "      <td>0.05263</td>\n",
       "      <td>0.04362</td>\n",
       "      <td>0.00000</td>\n",
       "      <td>0.00000</td>\n",
       "      <td>0.1587</td>\n",
       "      <td>0.05884</td>\n",
       "      <td>...</td>\n",
       "      <td>30.37</td>\n",
       "      <td>59.16</td>\n",
       "      <td>268.6</td>\n",
       "      <td>0.08996</td>\n",
       "      <td>0.06444</td>\n",
       "      <td>0.0000</td>\n",
       "      <td>0.0000</td>\n",
       "      <td>0.2871</td>\n",
       "      <td>0.07039</td>\n",
       "      <td>1</td>\n",
       "    </tr>\n",
       "  </tbody>\n",
       "</table>\n",
       "<p>569 rows × 31 columns</p>\n",
       "</div>"
      ],
      "text/plain": [
       "     mean radius  mean texture  mean perimeter  mean area  mean smoothness  \\\n",
       "0          17.99         10.38          122.80     1001.0          0.11840   \n",
       "1          20.57         17.77          132.90     1326.0          0.08474   \n",
       "2          19.69         21.25          130.00     1203.0          0.10960   \n",
       "3          11.42         20.38           77.58      386.1          0.14250   \n",
       "4          20.29         14.34          135.10     1297.0          0.10030   \n",
       "..           ...           ...             ...        ...              ...   \n",
       "564        21.56         22.39          142.00     1479.0          0.11100   \n",
       "565        20.13         28.25          131.20     1261.0          0.09780   \n",
       "566        16.60         28.08          108.30      858.1          0.08455   \n",
       "567        20.60         29.33          140.10     1265.0          0.11780   \n",
       "568         7.76         24.54           47.92      181.0          0.05263   \n",
       "\n",
       "     mean compactness  mean concavity  mean concave points  mean symmetry  \\\n",
       "0             0.27760         0.30010              0.14710         0.2419   \n",
       "1             0.07864         0.08690              0.07017         0.1812   \n",
       "2             0.15990         0.19740              0.12790         0.2069   \n",
       "3             0.28390         0.24140              0.10520         0.2597   \n",
       "4             0.13280         0.19800              0.10430         0.1809   \n",
       "..                ...             ...                  ...            ...   \n",
       "564           0.11590         0.24390              0.13890         0.1726   \n",
       "565           0.10340         0.14400              0.09791         0.1752   \n",
       "566           0.10230         0.09251              0.05302         0.1590   \n",
       "567           0.27700         0.35140              0.15200         0.2397   \n",
       "568           0.04362         0.00000              0.00000         0.1587   \n",
       "\n",
       "     mean fractal dimension  ...  worst texture  worst perimeter  worst area  \\\n",
       "0                   0.07871  ...          17.33           184.60      2019.0   \n",
       "1                   0.05667  ...          23.41           158.80      1956.0   \n",
       "2                   0.05999  ...          25.53           152.50      1709.0   \n",
       "3                   0.09744  ...          26.50            98.87       567.7   \n",
       "4                   0.05883  ...          16.67           152.20      1575.0   \n",
       "..                      ...  ...            ...              ...         ...   \n",
       "564                 0.05623  ...          26.40           166.10      2027.0   \n",
       "565                 0.05533  ...          38.25           155.00      1731.0   \n",
       "566                 0.05648  ...          34.12           126.70      1124.0   \n",
       "567                 0.07016  ...          39.42           184.60      1821.0   \n",
       "568                 0.05884  ...          30.37            59.16       268.6   \n",
       "\n",
       "     worst smoothness  worst compactness  worst concavity  \\\n",
       "0             0.16220            0.66560           0.7119   \n",
       "1             0.12380            0.18660           0.2416   \n",
       "2             0.14440            0.42450           0.4504   \n",
       "3             0.20980            0.86630           0.6869   \n",
       "4             0.13740            0.20500           0.4000   \n",
       "..                ...                ...              ...   \n",
       "564           0.14100            0.21130           0.4107   \n",
       "565           0.11660            0.19220           0.3215   \n",
       "566           0.11390            0.30940           0.3403   \n",
       "567           0.16500            0.86810           0.9387   \n",
       "568           0.08996            0.06444           0.0000   \n",
       "\n",
       "     worst concave points  worst symmetry  worst fractal dimension  target  \n",
       "0                  0.2654          0.4601                  0.11890       0  \n",
       "1                  0.1860          0.2750                  0.08902       0  \n",
       "2                  0.2430          0.3613                  0.08758       0  \n",
       "3                  0.2575          0.6638                  0.17300       0  \n",
       "4                  0.1625          0.2364                  0.07678       0  \n",
       "..                    ...             ...                      ...     ...  \n",
       "564                0.2216          0.2060                  0.07115       0  \n",
       "565                0.1628          0.2572                  0.06637       0  \n",
       "566                0.1418          0.2218                  0.07820       0  \n",
       "567                0.2650          0.4087                  0.12400       0  \n",
       "568                0.0000          0.2871                  0.07039       1  \n",
       "\n",
       "[569 rows x 31 columns]"
      ]
     },
     "execution_count": 6,
     "metadata": {},
     "output_type": "execute_result"
    }
   ],
   "source": [
    "cancer_data_df = pd.DataFrame(data = cancer_data.data,columns=cancer_data.feature_names)\n",
    "cancer_data_df['target'] = cancer_data.target\n",
    "cancer_data_df"
   ]
  },
  {
   "cell_type": "markdown",
   "id": "9aacbc65",
   "metadata": {},
   "source": [
    "## 3. Data Understanding"
   ]
  },
  {
   "cell_type": "code",
   "execution_count": 7,
   "id": "13f8a7d8",
   "metadata": {},
   "outputs": [
    {
     "data": {
      "text/plain": [
       "mean radius                0\n",
       "mean texture               0\n",
       "mean perimeter             0\n",
       "mean area                  0\n",
       "mean smoothness            0\n",
       "mean compactness           0\n",
       "mean concavity             0\n",
       "mean concave points        0\n",
       "mean symmetry              0\n",
       "mean fractal dimension     0\n",
       "radius error               0\n",
       "texture error              0\n",
       "perimeter error            0\n",
       "area error                 0\n",
       "smoothness error           0\n",
       "compactness error          0\n",
       "concavity error            0\n",
       "concave points error       0\n",
       "symmetry error             0\n",
       "fractal dimension error    0\n",
       "worst radius               0\n",
       "worst texture              0\n",
       "worst perimeter            0\n",
       "worst area                 0\n",
       "worst smoothness           0\n",
       "worst compactness          0\n",
       "worst concavity            0\n",
       "worst concave points       0\n",
       "worst symmetry             0\n",
       "worst fractal dimension    0\n",
       "target                     0\n",
       "dtype: int64"
      ]
     },
     "execution_count": 7,
     "metadata": {},
     "output_type": "execute_result"
    }
   ],
   "source": [
    "cancer_data_df.isna().sum()"
   ]
  },
  {
   "cell_type": "code",
   "execution_count": 8,
   "id": "84a9d467",
   "metadata": {},
   "outputs": [
    {
     "data": {
      "text/plain": [
       "mean radius                float64\n",
       "mean texture               float64\n",
       "mean perimeter             float64\n",
       "mean area                  float64\n",
       "mean smoothness            float64\n",
       "mean compactness           float64\n",
       "mean concavity             float64\n",
       "mean concave points        float64\n",
       "mean symmetry              float64\n",
       "mean fractal dimension     float64\n",
       "radius error               float64\n",
       "texture error              float64\n",
       "perimeter error            float64\n",
       "area error                 float64\n",
       "smoothness error           float64\n",
       "compactness error          float64\n",
       "concavity error            float64\n",
       "concave points error       float64\n",
       "symmetry error             float64\n",
       "fractal dimension error    float64\n",
       "worst radius               float64\n",
       "worst texture              float64\n",
       "worst perimeter            float64\n",
       "worst area                 float64\n",
       "worst smoothness           float64\n",
       "worst compactness          float64\n",
       "worst concavity            float64\n",
       "worst concave points       float64\n",
       "worst symmetry             float64\n",
       "worst fractal dimension    float64\n",
       "target                       int32\n",
       "dtype: object"
      ]
     },
     "execution_count": 8,
     "metadata": {},
     "output_type": "execute_result"
    }
   ],
   "source": [
    "cancer_data_df.dtypes"
   ]
  },
  {
   "cell_type": "code",
   "execution_count": 9,
   "id": "59a9d407",
   "metadata": {},
   "outputs": [
    {
     "data": {
      "text/plain": [
       "(569, 31)"
      ]
     },
     "execution_count": 9,
     "metadata": {},
     "output_type": "execute_result"
    }
   ],
   "source": [
    "cancer_data_df.shape"
   ]
  },
  {
   "cell_type": "markdown",
   "id": "086076c1",
   "metadata": {},
   "source": [
    "## 4. Model Building"
   ]
  },
  {
   "cell_type": "code",
   "execution_count": 12,
   "id": "dbb7dadf",
   "metadata": {},
   "outputs": [],
   "source": [
    "X = cancer_data_df.iloc[:,:-1]\n",
    "y = cancer_data_df[['target']]"
   ]
  },
  {
   "cell_type": "code",
   "execution_count": 13,
   "id": "6c918595",
   "metadata": {},
   "outputs": [],
   "source": [
    "from sklearn.model_selection import train_test_split\n",
    "X_train,X_test,y_train,y_test = train_test_split(X,y,test_size=0.20,random_state=12,stratify=y)"
   ]
  },
  {
   "cell_type": "code",
   "execution_count": 14,
   "id": "1562c099",
   "metadata": {},
   "outputs": [
    {
     "data": {
      "text/plain": [
       "((455, 30), (455, 1))"
      ]
     },
     "execution_count": 14,
     "metadata": {},
     "output_type": "execute_result"
    }
   ],
   "source": [
    "X_train.shape,y_train.shape"
   ]
  },
  {
   "cell_type": "code",
   "execution_count": 15,
   "id": "356ec388",
   "metadata": {},
   "outputs": [
    {
     "data": {
      "text/plain": [
       "((114, 30), (114, 1))"
      ]
     },
     "execution_count": 15,
     "metadata": {},
     "output_type": "execute_result"
    }
   ],
   "source": [
    "X_test.shape,y_test.shape"
   ]
  },
  {
   "cell_type": "markdown",
   "id": "b4e1cdcf",
   "metadata": {},
   "source": [
    "## 5. FEATURE SELECTION TECHNIQUES\n",
    "\n",
    "### 5.1 SelectFromModel Technique"
   ]
  },
  {
   "cell_type": "code",
   "execution_count": 33,
   "id": "b6e4de15",
   "metadata": {},
   "outputs": [],
   "source": [
    "from sklearn.feature_selection import RFE,SelectFromModel\n",
    "from sklearn.ensemble import RandomForestClassifier,GradientBoostingClassifier\n",
    "\n",
    "from sklearn.metrics import accuracy_score,precision_score,recall_score,confusion_matrix\n",
    "\n",
    "import warnings\n",
    "warnings.filterwarnings('ignore')"
   ]
  },
  {
   "cell_type": "code",
   "execution_count": 42,
   "id": "6ba44d03",
   "metadata": {},
   "outputs": [
    {
     "data": {
      "text/plain": [
       "SelectFromModel(estimator=RandomForestClassifier(random_state=12))"
      ]
     },
     "execution_count": 42,
     "metadata": {},
     "output_type": "execute_result"
    }
   ],
   "source": [
    "select_from_model = SelectFromModel(estimator = RandomForestClassifier(n_estimators=100,random_state=12),max_features=None)\n",
    "select_from_model.fit(X_train,y_train)"
   ]
  },
  {
   "cell_type": "code",
   "execution_count": 43,
   "id": "5aee05bd",
   "metadata": {},
   "outputs": [
    {
     "data": {
      "text/plain": [
       "array([False, False, False,  True, False, False, False,  True, False,\n",
       "       False, False, False, False,  True, False, False, False, False,\n",
       "       False, False,  True, False,  True,  True, False, False, False,\n",
       "        True, False, False])"
      ]
     },
     "execution_count": 43,
     "metadata": {},
     "output_type": "execute_result"
    }
   ],
   "source": [
    "select_from_model.get_support()"
   ]
  },
  {
   "cell_type": "code",
   "execution_count": 44,
   "id": "91eaba66",
   "metadata": {},
   "outputs": [
    {
     "data": {
      "text/plain": [
       "Index(['mean area', 'mean concave points', 'area error', 'worst radius',\n",
       "       'worst perimeter', 'worst area', 'worst concave points'],\n",
       "      dtype='object')"
      ]
     },
     "execution_count": 44,
     "metadata": {},
     "output_type": "execute_result"
    }
   ],
   "source": [
    "X_train.columns[select_from_model.get_support()]"
   ]
  },
  {
   "cell_type": "code",
   "execution_count": 45,
   "id": "12648bc9",
   "metadata": {},
   "outputs": [],
   "source": [
    "X_train_transformed = select_from_model.transform(X_train)\n",
    "X_test_transformed  = select_from_model.transform(X_test)"
   ]
  },
  {
   "cell_type": "code",
   "execution_count": 46,
   "id": "3060584c",
   "metadata": {},
   "outputs": [
    {
     "data": {
      "text/plain": [
       "(455, 7)"
      ]
     },
     "execution_count": 46,
     "metadata": {},
     "output_type": "execute_result"
    }
   ],
   "source": [
    "X_train_transformed.shape"
   ]
  },
  {
   "cell_type": "code",
   "execution_count": 47,
   "id": "e5b99928",
   "metadata": {},
   "outputs": [
    {
     "data": {
      "text/plain": [
       "(114, 7)"
      ]
     },
     "execution_count": 47,
     "metadata": {},
     "output_type": "execute_result"
    }
   ],
   "source": [
    "X_test_transformed.shape"
   ]
  },
  {
   "cell_type": "code",
   "execution_count": 51,
   "id": "cdef1ff2",
   "metadata": {},
   "outputs": [],
   "source": [
    "def run_RandomForestClassifier(X_train,X_test,y_train,y_test):    \n",
    "    rf_classifier = RandomForestClassifier()\n",
    "    rf_classifier.fit(X_train,y_train) \n",
    "    y_pred = rf_classifier.predict(X_test)\n",
    "    print('Accuracy score  : ',round(accuracy_score(y_test,y_pred),4))\n",
    "    print('Precision score : ',round(precision_score(y_test,y_pred),4))\n",
    "    print('Recall score    : ',round(recall_score(y_test,y_pred),4))\n",
    "    print('Confusion Matrix:\\n',confusion_matrix(y_test,y_pred))"
   ]
  },
  {
   "cell_type": "code",
   "execution_count": 52,
   "id": "06cfb84e",
   "metadata": {},
   "outputs": [
    {
     "name": "stdout",
     "output_type": "stream",
     "text": [
      "Accuracy score  :  0.9474\n",
      "Precision score :  0.9583\n",
      "Recall score    :  0.9583\n",
      "Confusion Matrix:\n",
      " [[39  3]\n",
      " [ 3 69]]\n",
      "Wall time: 370 ms\n"
     ]
    }
   ],
   "source": [
    "%%time\n",
    "run_RandomForestClassifier(X_train,X_test,y_train,y_test)"
   ]
  },
  {
   "cell_type": "code",
   "execution_count": 53,
   "id": "724e905b",
   "metadata": {},
   "outputs": [
    {
     "name": "stdout",
     "output_type": "stream",
     "text": [
      "Accuracy score  :  0.9298\n",
      "Precision score :  0.9324\n",
      "Recall score    :  0.9583\n",
      "Confusion Matrix:\n",
      " [[37  5]\n",
      " [ 3 69]]\n",
      "Wall time: 412 ms\n"
     ]
    }
   ],
   "source": [
    "%%time\n",
    "run_RandomForestClassifier(X_train_transformed,X_test_transformed,y_train,y_test)"
   ]
  },
  {
   "cell_type": "markdown",
   "id": "f53142f0",
   "metadata": {},
   "source": [
    "## Technique 2: RFE"
   ]
  },
  {
   "cell_type": "code",
   "execution_count": 54,
   "id": "0f7927d4",
   "metadata": {},
   "outputs": [],
   "source": [
    "from sklearn.feature_selection import RFE"
   ]
  },
  {
   "cell_type": "code",
   "execution_count": 57,
   "id": "b8512931",
   "metadata": {},
   "outputs": [
    {
     "data": {
      "text/plain": [
       "RFE(estimator=RandomForestClassifier(random_state=12), n_features_to_select=12)"
      ]
     },
     "execution_count": 57,
     "metadata": {},
     "output_type": "execute_result"
    }
   ],
   "source": [
    "rfe = RFE(estimator = RandomForestClassifier(random_state=12), n_features_to_select=12)\n",
    "rfe.fit(X_train,y_train)"
   ]
  },
  {
   "cell_type": "code",
   "execution_count": 58,
   "id": "40adb93d",
   "metadata": {},
   "outputs": [
    {
     "data": {
      "text/plain": [
       "array([ True, False,  True,  True, False, False,  True,  True, False,\n",
       "       False, False, False, False,  True, False, False, False, False,\n",
       "       False, False,  True,  True,  True,  True, False, False,  True,\n",
       "        True, False, False])"
      ]
     },
     "execution_count": 58,
     "metadata": {},
     "output_type": "execute_result"
    }
   ],
   "source": [
    "rfe.get_support()"
   ]
  },
  {
   "cell_type": "code",
   "execution_count": 61,
   "id": "019ef412",
   "metadata": {},
   "outputs": [
    {
     "data": {
      "text/plain": [
       "Index(['mean radius', 'mean perimeter', 'mean area', 'mean concavity',\n",
       "       'mean concave points', 'area error', 'worst radius', 'worst texture',\n",
       "       'worst perimeter', 'worst area', 'worst concavity',\n",
       "       'worst concave points'],\n",
       "      dtype='object')"
      ]
     },
     "execution_count": 61,
     "metadata": {},
     "output_type": "execute_result"
    }
   ],
   "source": [
    "X_train.columns[rfe.get_support()]"
   ]
  },
  {
   "cell_type": "code",
   "execution_count": 60,
   "id": "0d78303a",
   "metadata": {},
   "outputs": [
    {
     "data": {
      "text/plain": [
       "12"
      ]
     },
     "execution_count": 60,
     "metadata": {},
     "output_type": "execute_result"
    }
   ],
   "source": [
    "len(X_train.columns[rfe.get_support()])"
   ]
  },
  {
   "cell_type": "code",
   "execution_count": 63,
   "id": "9f9a14ef",
   "metadata": {},
   "outputs": [],
   "source": [
    "X_train_transformed_rfe = rfe.transform(X_train)\n",
    "X_test_transformed_rfe  = rfe.transform(X_test)"
   ]
  },
  {
   "cell_type": "code",
   "execution_count": 65,
   "id": "4e53ca24",
   "metadata": {},
   "outputs": [
    {
     "data": {
      "text/plain": [
       "((455, 30), (114, 30))"
      ]
     },
     "execution_count": 65,
     "metadata": {},
     "output_type": "execute_result"
    }
   ],
   "source": [
    "X_train.shape,X_test.shape"
   ]
  },
  {
   "cell_type": "code",
   "execution_count": 67,
   "id": "7c0252cb",
   "metadata": {},
   "outputs": [
    {
     "data": {
      "text/plain": [
       "((455, 12), (114, 12))"
      ]
     },
     "execution_count": 67,
     "metadata": {},
     "output_type": "execute_result"
    }
   ],
   "source": [
    "X_train_transformed_rfe.shape,X_test_transformed_rfe.shape"
   ]
  },
  {
   "cell_type": "code",
   "execution_count": 51,
   "id": "f2a59be5",
   "metadata": {},
   "outputs": [],
   "source": [
    "def run_RandomForestClassifier(X_train,X_test,y_train,y_test):    \n",
    "    rf_classifier = RandomForestClassifier()\n",
    "    rf_classifier.fit(X_train,y_train) \n",
    "    y_pred = rf_classifier.predict(X_test)\n",
    "    print('Accuracy score  : ',round(accuracy_score(y_test,y_pred),4))\n",
    "    print('Precision score : ',round(precision_score(y_test,y_pred),4))\n",
    "    print('Recall score    : ',round(recall_score(y_test,y_pred),4))\n",
    "    print('Confusion Matrix:\\n',confusion_matrix(y_test,y_pred))"
   ]
  },
  {
   "cell_type": "code",
   "execution_count": 68,
   "id": "a4bb97d4",
   "metadata": {},
   "outputs": [
    {
     "name": "stdout",
     "output_type": "stream",
     "text": [
      "Accuracy score  :  0.9561\n",
      "Precision score :  0.9718\n",
      "Recall score    :  0.9583\n",
      "Confusion Matrix:\n",
      " [[40  2]\n",
      " [ 3 69]]\n",
      "Wall time: 427 ms\n"
     ]
    }
   ],
   "source": [
    "%%time\n",
    "run_RandomForestClassifier(X_train,X_test,y_train,y_test) #30features"
   ]
  },
  {
   "cell_type": "code",
   "execution_count": 69,
   "id": "1fdc11d6",
   "metadata": {},
   "outputs": [
    {
     "name": "stdout",
     "output_type": "stream",
     "text": [
      "Accuracy score  :  0.9386\n",
      "Precision score :  0.9452\n",
      "Recall score    :  0.9583\n",
      "Confusion Matrix:\n",
      " [[38  4]\n",
      " [ 3 69]]\n",
      "Wall time: 361 ms\n"
     ]
    }
   ],
   "source": [
    "%%time\n",
    "run_RandomForestClassifier(X_train_transformed_rfe,X_test_transformed_rfe,y_train,y_test) "
   ]
  },
  {
   "cell_type": "markdown",
   "id": "a2c87a65",
   "metadata": {},
   "source": [
    "### Pick up the important features from Gradient Boosting to build RandomForestClassfier"
   ]
  },
  {
   "cell_type": "code",
   "execution_count": 82,
   "id": "5876e1fe",
   "metadata": {},
   "outputs": [
    {
     "data": {
      "text/plain": [
       "RFE(estimator=GradientBoostingClassifier(random_state=12),\n",
       "    n_features_to_select=12)"
      ]
     },
     "execution_count": 82,
     "metadata": {},
     "output_type": "execute_result"
    }
   ],
   "source": [
    "rfe = RFE(estimator = GradientBoostingClassifier(random_state=12), n_features_to_select=12)\n",
    "rfe.fit(X_train,y_train)"
   ]
  },
  {
   "cell_type": "code",
   "execution_count": 83,
   "id": "2bfd6e37",
   "metadata": {},
   "outputs": [
    {
     "data": {
      "text/plain": [
       "array([False,  True, False,  True, False, False,  True,  True, False,\n",
       "       False, False, False, False,  True, False, False,  True, False,\n",
       "       False,  True, False,  True, False,  True, False, False,  True,\n",
       "        True,  True, False])"
      ]
     },
     "execution_count": 83,
     "metadata": {},
     "output_type": "execute_result"
    }
   ],
   "source": [
    "rfe.get_support()"
   ]
  },
  {
   "cell_type": "code",
   "execution_count": 72,
   "id": "01034822",
   "metadata": {},
   "outputs": [
    {
     "data": {
      "text/plain": [
       "Index(['mean texture', 'mean area', 'mean concavity', 'mean concave points',\n",
       "       'area error', 'concavity error', 'fractal dimension error',\n",
       "       'worst texture', 'worst area', 'worst concavity',\n",
       "       'worst concave points', 'worst symmetry'],\n",
       "      dtype='object')"
      ]
     },
     "execution_count": 72,
     "metadata": {},
     "output_type": "execute_result"
    }
   ],
   "source": [
    "X_train.columns[rfe.get_support()]"
   ]
  },
  {
   "cell_type": "code",
   "execution_count": 73,
   "id": "026c5c53",
   "metadata": {},
   "outputs": [
    {
     "data": {
      "text/plain": [
       "12"
      ]
     },
     "execution_count": 73,
     "metadata": {},
     "output_type": "execute_result"
    }
   ],
   "source": [
    "len(X_train.columns[rfe.get_support()])"
   ]
  },
  {
   "cell_type": "code",
   "execution_count": 74,
   "id": "e0a1d345",
   "metadata": {},
   "outputs": [],
   "source": [
    "X_train_transformed_rfe = rfe.transform(X_train)\n",
    "X_test_transformed_rfe  = rfe.transform(X_test)"
   ]
  },
  {
   "cell_type": "code",
   "execution_count": 75,
   "id": "062f1762",
   "metadata": {},
   "outputs": [
    {
     "data": {
      "text/plain": [
       "((455, 30), (114, 30))"
      ]
     },
     "execution_count": 75,
     "metadata": {},
     "output_type": "execute_result"
    }
   ],
   "source": [
    "X_train.shape,X_test.shape"
   ]
  },
  {
   "cell_type": "code",
   "execution_count": 76,
   "id": "e20728f4",
   "metadata": {},
   "outputs": [
    {
     "data": {
      "text/plain": [
       "((455, 12), (114, 12))"
      ]
     },
     "execution_count": 76,
     "metadata": {},
     "output_type": "execute_result"
    }
   ],
   "source": [
    "X_train_transformed_rfe.shape,X_test_transformed_rfe.shape"
   ]
  },
  {
   "cell_type": "code",
   "execution_count": 77,
   "id": "57c61f8f",
   "metadata": {},
   "outputs": [],
   "source": [
    "def run_RandomForestClassifier(X_train,X_test,y_train,y_test):    \n",
    "    rf_classifier = RandomForestClassifier()\n",
    "    rf_classifier.fit(X_train,y_train) \n",
    "    y_pred = rf_classifier.predict(X_test)\n",
    "    print('Accuracy score  : ',round(accuracy_score(y_test,y_pred),4))\n",
    "    print('Precision score : ',round(precision_score(y_test,y_pred),4))\n",
    "    print('Recall score    : ',round(recall_score(y_test,y_pred),4))\n",
    "    print('Confusion Matrix:\\n',confusion_matrix(y_test,y_pred))"
   ]
  },
  {
   "cell_type": "code",
   "execution_count": 78,
   "id": "cad971dd",
   "metadata": {},
   "outputs": [
    {
     "name": "stdout",
     "output_type": "stream",
     "text": [
      "Accuracy score  :  0.9649\n",
      "Precision score :  0.9722\n",
      "Recall score    :  0.9722\n",
      "Confusion Matrix:\n",
      " [[40  2]\n",
      " [ 2 70]]\n",
      "Wall time: 421 ms\n"
     ]
    }
   ],
   "source": [
    "%%time\n",
    "run_RandomForestClassifier(X_train,X_test,y_train,y_test) #30features"
   ]
  },
  {
   "cell_type": "code",
   "execution_count": 79,
   "id": "d3f21861",
   "metadata": {},
   "outputs": [
    {
     "name": "stdout",
     "output_type": "stream",
     "text": [
      "Accuracy score  :  0.9737\n",
      "Precision score :  0.9726\n",
      "Recall score    :  0.9861\n",
      "Confusion Matrix:\n",
      " [[40  2]\n",
      " [ 1 71]]\n",
      "Wall time: 318 ms\n"
     ]
    }
   ],
   "source": [
    "%%time\n",
    "run_RandomForestClassifier(X_train_transformed_rfe,X_test_transformed_rfe,y_train,y_test) "
   ]
  },
  {
   "cell_type": "markdown",
   "id": "8eb5cb8e",
   "metadata": {},
   "source": [
    "### How to decide the optimal number of features to get better Accuracy?"
   ]
  },
  {
   "cell_type": "code",
   "execution_count": 84,
   "id": "cf5b5b43",
   "metadata": {},
   "outputs": [
    {
     "name": "stdout",
     "output_type": "stream",
     "text": [
      "Selected Features :  1\n",
      "Accuracy score  :  0.8158\n",
      "Precision score :  0.8696\n",
      "Recall score    :  0.8333\n",
      "Confusion Matrix:\n",
      " [[33  9]\n",
      " [12 60]]\n",
      "--------------------------------------------------------------------------------\n",
      "Selected Features :  2\n",
      "Accuracy score  :  0.9211\n",
      "Precision score :  0.9315\n",
      "Recall score    :  0.9444\n",
      "Confusion Matrix:\n",
      " [[37  5]\n",
      " [ 4 68]]\n",
      "--------------------------------------------------------------------------------\n",
      "Selected Features :  3\n",
      "Accuracy score  :  0.9211\n",
      "Precision score :  0.9315\n",
      "Recall score    :  0.9444\n",
      "Confusion Matrix:\n",
      " [[37  5]\n",
      " [ 4 68]]\n",
      "--------------------------------------------------------------------------------\n",
      "Selected Features :  4\n",
      "Accuracy score  :  0.9561\n",
      "Precision score :  0.9589\n",
      "Recall score    :  0.9722\n",
      "Confusion Matrix:\n",
      " [[39  3]\n",
      " [ 2 70]]\n",
      "--------------------------------------------------------------------------------\n",
      "Selected Features :  5\n",
      "Accuracy score  :  0.9386\n",
      "Precision score :  0.9577\n",
      "Recall score    :  0.9444\n",
      "Confusion Matrix:\n",
      " [[39  3]\n",
      " [ 4 68]]\n",
      "--------------------------------------------------------------------------------\n",
      "Selected Features :  6\n",
      "Accuracy score  :  0.9474\n",
      "Precision score :  0.9714\n",
      "Recall score    :  0.9444\n",
      "Confusion Matrix:\n",
      " [[40  2]\n",
      " [ 4 68]]\n",
      "--------------------------------------------------------------------------------\n",
      "Selected Features :  7\n",
      "Accuracy score  :  0.9474\n",
      "Precision score :  0.9714\n",
      "Recall score    :  0.9444\n",
      "Confusion Matrix:\n",
      " [[40  2]\n",
      " [ 4 68]]\n",
      "--------------------------------------------------------------------------------\n",
      "Selected Features :  8\n",
      "Accuracy score  :  0.9737\n",
      "Precision score :  0.9726\n",
      "Recall score    :  0.9861\n",
      "Confusion Matrix:\n",
      " [[40  2]\n",
      " [ 1 71]]\n",
      "--------------------------------------------------------------------------------\n",
      "Selected Features :  9\n",
      "Accuracy score  :  0.9474\n",
      "Precision score :  0.9583\n",
      "Recall score    :  0.9583\n",
      "Confusion Matrix:\n",
      " [[39  3]\n",
      " [ 3 69]]\n",
      "--------------------------------------------------------------------------------\n",
      "Selected Features :  10\n",
      "Accuracy score  :  0.9474\n",
      "Precision score :  0.9714\n",
      "Recall score    :  0.9444\n",
      "Confusion Matrix:\n",
      " [[40  2]\n",
      " [ 4 68]]\n",
      "--------------------------------------------------------------------------------\n",
      "Selected Features :  11\n",
      "Accuracy score  :  0.9474\n",
      "Precision score :  0.9583\n",
      "Recall score    :  0.9583\n",
      "Confusion Matrix:\n",
      " [[39  3]\n",
      " [ 3 69]]\n",
      "--------------------------------------------------------------------------------\n",
      "Selected Features :  12\n",
      "Accuracy score  :  0.9561\n",
      "Precision score :  0.9718\n",
      "Recall score    :  0.9583\n",
      "Confusion Matrix:\n",
      " [[40  2]\n",
      " [ 3 69]]\n",
      "--------------------------------------------------------------------------------\n",
      "Selected Features :  13\n",
      "Accuracy score  :  0.9737\n",
      "Precision score :  0.9726\n",
      "Recall score    :  0.9861\n",
      "Confusion Matrix:\n",
      " [[40  2]\n",
      " [ 1 71]]\n",
      "--------------------------------------------------------------------------------\n",
      "Selected Features :  14\n",
      "Accuracy score  :  0.9737\n",
      "Precision score :  0.9726\n",
      "Recall score    :  0.9861\n",
      "Confusion Matrix:\n",
      " [[40  2]\n",
      " [ 1 71]]\n",
      "--------------------------------------------------------------------------------\n",
      "Selected Features :  15\n",
      "Accuracy score  :  0.9649\n",
      "Precision score :  0.9722\n",
      "Recall score    :  0.9722\n",
      "Confusion Matrix:\n",
      " [[40  2]\n",
      " [ 2 70]]\n",
      "--------------------------------------------------------------------------------\n",
      "Selected Features :  16\n",
      "Accuracy score  :  0.9561\n",
      "Precision score :  0.9718\n",
      "Recall score    :  0.9583\n",
      "Confusion Matrix:\n",
      " [[40  2]\n",
      " [ 3 69]]\n",
      "--------------------------------------------------------------------------------\n",
      "Selected Features :  17\n",
      "Accuracy score  :  0.9561\n",
      "Precision score :  0.9718\n",
      "Recall score    :  0.9583\n",
      "Confusion Matrix:\n",
      " [[40  2]\n",
      " [ 3 69]]\n",
      "--------------------------------------------------------------------------------\n",
      "Selected Features :  18\n",
      "Accuracy score  :  0.9649\n",
      "Precision score :  0.9722\n",
      "Recall score    :  0.9722\n",
      "Confusion Matrix:\n",
      " [[40  2]\n",
      " [ 2 70]]\n",
      "--------------------------------------------------------------------------------\n",
      "Selected Features :  19\n",
      "Accuracy score  :  0.9649\n",
      "Precision score :  0.9722\n",
      "Recall score    :  0.9722\n",
      "Confusion Matrix:\n",
      " [[40  2]\n",
      " [ 2 70]]\n",
      "--------------------------------------------------------------------------------\n",
      "Selected Features :  20\n",
      "Accuracy score  :  0.9649\n",
      "Precision score :  0.9722\n",
      "Recall score    :  0.9722\n",
      "Confusion Matrix:\n",
      " [[40  2]\n",
      " [ 2 70]]\n",
      "--------------------------------------------------------------------------------\n",
      "Selected Features :  21\n",
      "Accuracy score  :  0.9649\n",
      "Precision score :  0.9722\n",
      "Recall score    :  0.9722\n",
      "Confusion Matrix:\n",
      " [[40  2]\n",
      " [ 2 70]]\n",
      "--------------------------------------------------------------------------------\n",
      "Selected Features :  22\n",
      "Accuracy score  :  0.9649\n",
      "Precision score :  0.9722\n",
      "Recall score    :  0.9722\n",
      "Confusion Matrix:\n",
      " [[40  2]\n",
      " [ 2 70]]\n",
      "--------------------------------------------------------------------------------\n",
      "Selected Features :  23\n",
      "Accuracy score  :  0.9561\n",
      "Precision score :  0.9718\n",
      "Recall score    :  0.9583\n",
      "Confusion Matrix:\n",
      " [[40  2]\n",
      " [ 3 69]]\n",
      "--------------------------------------------------------------------------------\n",
      "Selected Features :  24\n",
      "Accuracy score  :  0.9561\n",
      "Precision score :  0.9718\n",
      "Recall score    :  0.9583\n",
      "Confusion Matrix:\n",
      " [[40  2]\n",
      " [ 3 69]]\n",
      "--------------------------------------------------------------------------------\n",
      "Selected Features :  25\n",
      "Accuracy score  :  0.9649\n",
      "Precision score :  0.9722\n",
      "Recall score    :  0.9722\n",
      "Confusion Matrix:\n",
      " [[40  2]\n",
      " [ 2 70]]\n",
      "--------------------------------------------------------------------------------\n",
      "Selected Features :  26\n",
      "Accuracy score  :  0.9737\n",
      "Precision score :  0.9726\n",
      "Recall score    :  0.9861\n",
      "Confusion Matrix:\n",
      " [[40  2]\n",
      " [ 1 71]]\n",
      "--------------------------------------------------------------------------------\n",
      "Selected Features :  27\n",
      "Accuracy score  :  0.9561\n",
      "Precision score :  0.9718\n",
      "Recall score    :  0.9583\n",
      "Confusion Matrix:\n",
      " [[40  2]\n",
      " [ 3 69]]\n",
      "--------------------------------------------------------------------------------\n",
      "Selected Features :  28\n",
      "Accuracy score  :  0.9561\n",
      "Precision score :  0.9718\n",
      "Recall score    :  0.9583\n",
      "Confusion Matrix:\n",
      " [[40  2]\n",
      " [ 3 69]]\n",
      "--------------------------------------------------------------------------------\n",
      "Selected Features :  29\n",
      "Accuracy score  :  0.9649\n",
      "Precision score :  0.9722\n",
      "Recall score    :  0.9722\n",
      "Confusion Matrix:\n",
      " [[40  2]\n",
      " [ 2 70]]\n",
      "--------------------------------------------------------------------------------\n",
      "Selected Features :  30\n",
      "Accuracy score  :  0.9737\n",
      "Precision score :  0.9726\n",
      "Recall score    :  0.9861\n",
      "Confusion Matrix:\n",
      " [[40  2]\n",
      " [ 1 71]]\n",
      "--------------------------------------------------------------------------------\n"
     ]
    }
   ],
   "source": [
    "for i in range(1,31):\n",
    "    rfe = RFE(estimator = GradientBoostingClassifier(random_state=12), n_features_to_select=i)\n",
    "    rfe.fit(X_train,y_train)\n",
    "    X_train_transformed_rfe = rfe.transform(X_train)\n",
    "    X_test_transformed_rfe  = rfe.transform(X_test)\n",
    "    print('Selected Features : ',i)\n",
    "    run_RandomForestClassifier(X_train_transformed_rfe,X_test_transformed_rfe,y_train,y_test)\n",
    "    print('--------------------------------------------------------------------------------')"
   ]
  },
  {
   "cell_type": "code",
   "execution_count": 85,
   "id": "a350bccd",
   "metadata": {},
   "outputs": [
    {
     "data": {
      "text/plain": [
       "RFE(estimator=GradientBoostingClassifier(random_state=12),\n",
       "    n_features_to_select=8)"
      ]
     },
     "execution_count": 85,
     "metadata": {},
     "output_type": "execute_result"
    }
   ],
   "source": [
    "rfe = RFE(estimator = GradientBoostingClassifier(random_state=12), n_features_to_select=8)\n",
    "rfe.fit(X_train,y_train)"
   ]
  },
  {
   "cell_type": "code",
   "execution_count": 86,
   "id": "0ac303d3",
   "metadata": {},
   "outputs": [
    {
     "data": {
      "text/plain": [
       "array([False,  True, False, False, False, False,  True,  True, False,\n",
       "       False, False, False, False,  True, False, False, False, False,\n",
       "       False, False, False,  True, False,  True, False, False,  True,\n",
       "        True, False, False])"
      ]
     },
     "execution_count": 86,
     "metadata": {},
     "output_type": "execute_result"
    }
   ],
   "source": [
    "rfe.get_support()"
   ]
  },
  {
   "cell_type": "code",
   "execution_count": 88,
   "id": "dd0ca4a6",
   "metadata": {},
   "outputs": [
    {
     "data": {
      "text/plain": [
       "Index(['mean texture', 'mean concavity', 'mean concave points', 'area error',\n",
       "       'worst texture', 'worst area', 'worst concavity',\n",
       "       'worst concave points'],\n",
       "      dtype='object')"
      ]
     },
     "execution_count": 88,
     "metadata": {},
     "output_type": "execute_result"
    }
   ],
   "source": [
    "X_train.columns[rfe.get_support()]"
   ]
  },
  {
   "cell_type": "code",
   "execution_count": 89,
   "id": "e4191f56",
   "metadata": {},
   "outputs": [],
   "source": [
    "X_train_transformed_rfe = rfe.transform(X_train)\n",
    "X_test_transformed_rfe  = rfe.transform(X_test)"
   ]
  },
  {
   "cell_type": "code",
   "execution_count": 90,
   "id": "ed0fe4eb",
   "metadata": {},
   "outputs": [
    {
     "data": {
      "text/plain": [
       "((455, 8), (114, 8))"
      ]
     },
     "execution_count": 90,
     "metadata": {},
     "output_type": "execute_result"
    }
   ],
   "source": [
    "X_train_transformed_rfe.shape,X_test_transformed_rfe.shape"
   ]
  },
  {
   "cell_type": "code",
   "execution_count": 91,
   "id": "2f5bdddb",
   "metadata": {},
   "outputs": [
    {
     "name": "stdout",
     "output_type": "stream",
     "text": [
      "Accuracy score  :  0.9474\n",
      "Precision score :  0.9714\n",
      "Recall score    :  0.9444\n",
      "Confusion Matrix:\n",
      " [[40  2]\n",
      " [ 4 68]]\n",
      "Wall time: 385 ms\n"
     ]
    }
   ],
   "source": [
    "%%time\n",
    "run_RandomForestClassifier(X_train_transformed_rfe,X_test_transformed_rfe,y_train,y_test)"
   ]
  },
  {
   "cell_type": "markdown",
   "id": "72d8f6f8",
   "metadata": {},
   "source": [
    "### THE END!!"
   ]
  }
 ],
 "metadata": {
  "kernelspec": {
   "display_name": "Python 3",
   "language": "python",
   "name": "python3"
  },
  "language_info": {
   "codemirror_mode": {
    "name": "ipython",
    "version": 3
   },
   "file_extension": ".py",
   "mimetype": "text/x-python",
   "name": "python",
   "nbconvert_exporter": "python",
   "pygments_lexer": "ipython3",
   "version": "3.8.8"
  }
 },
 "nbformat": 4,
 "nbformat_minor": 5
}
